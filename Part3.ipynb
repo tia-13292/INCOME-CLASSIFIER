{
 "cells": [
  {
   "cell_type": "code",
   "execution_count": 1,
   "metadata": {
    "collapsed": true
   },
   "outputs": [],
   "source": [
    "from pyspark.sql import SparkSession\n",
    "from pyspark import SparkContext\n",
    "sc=SparkContext()\n",
    "spark = SparkSession(sc)"
   ]
  },
  {
   "cell_type": "code",
   "execution_count": 2,
   "metadata": {
    "scrolled": false
   },
   "outputs": [
    {
     "name": "stdout",
     "output_type": "stream",
     "text": [
      "+---+----------------+------+------------+-------------+------------------+---------------+--------------+-----+------+------------+------------+--------------+--------------+------+\n",
      "|age|       workclass|fnlwgt|   education|education_num|    marital_status|     occupation|  relationship| race|   sex|capital_gain|capital_loss|hours_per_week|native_country|income|\n",
      "+---+----------------+------+------------+-------------+------------------+---------------+--------------+-----+------+------------+------------+--------------+--------------+------+\n",
      "| 22|         Private|148187|        11th|            7|     Never-married|  Other-service|Other-relative|White|  Male|           0|           0|            40| United-States| <=50K|\n",
      "| 77|Self-emp-not-inc|138714|Some-college|           10|Married-civ-spouse|          Sales|       Husband|White|  Male|           0|           0|            40| United-States| <=50K|\n",
      "| 47|               ?|224108|     HS-grad|            9|           Widowed|              ?|     Unmarried|White|Female|           0|           0|            40| United-States| <=50K|\n",
      "| 23|         Private|314894|     HS-grad|            9|     Never-married|Exec-managerial|     Own-child|White|Female|           0|           0|            45| United-States| <=50K|\n",
      "| 46|         Private|166181|Some-college|           10|     Never-married|   Adm-clerical|     Own-child|Black|Female|           0|           0|            36| United-States| <=50K|\n",
      "+---+----------------+------+------------+-------------+------------------+---------------+--------------+-----+------+------------+------------+--------------+--------------+------+\n",
      "only showing top 5 rows\n",
      "\n"
     ]
    }
   ],
   "source": [
    "#Load data using PySpark\n",
    "myrdd1=sc.textFile(\"/user/edureka_1045049/Project2/censusdata.csv\").map(lambda line: line.split(\",\"))\n",
    "header=myrdd1.first()\n",
    "myrdd1=myrdd1.filter(lambda line:line!=header)\n",
    "hasattr(myrdd1, \"toDF\")\n",
    "col=[\"age\", \"workclass\", \"fnlwgt\", \"education\", \"education_num\", \"marital_status\", \"occupation\", \"relationship\", \"race\", \"sex\", \"capital_gain\", \"capital_loss\", \"hours_per_week\", \"native_country\", \"income\"]\n",
    "cens_data=myrdd1.toDF(col)\n",
    "cens_data.show(5)"
   ]
  },
  {
   "cell_type": "code",
   "execution_count": 3,
   "metadata": {},
   "outputs": [
    {
     "name": "stdout",
     "output_type": "stream",
     "text": [
      "('Shape of dataframe: ', 92561, 15)\n",
      "root\n",
      " |-- age: string (nullable = true)\n",
      " |-- workclass: string (nullable = true)\n",
      " |-- fnlwgt: string (nullable = true)\n",
      " |-- education: string (nullable = true)\n",
      " |-- education_num: string (nullable = true)\n",
      " |-- marital_status: string (nullable = true)\n",
      " |-- occupation: string (nullable = true)\n",
      " |-- relationship: string (nullable = true)\n",
      " |-- race: string (nullable = true)\n",
      " |-- sex: string (nullable = true)\n",
      " |-- capital_gain: string (nullable = true)\n",
      " |-- capital_loss: string (nullable = true)\n",
      " |-- hours_per_week: string (nullable = true)\n",
      " |-- native_country: string (nullable = true)\n",
      " |-- income: string (nullable = true)\n",
      "\n"
     ]
    }
   ],
   "source": [
    "#Find the shape and schema of the dataset\n",
    "print(\"Shape of dataframe: \",cens_data.count(),len(cens_data.columns))\n",
    "cens_data.printSchema()"
   ]
  },
  {
   "cell_type": "code",
   "execution_count": 4,
   "metadata": {},
   "outputs": [
    {
     "name": "stdout",
     "output_type": "stream",
     "text": [
      "+-------+------------------+-----------+------------------+------------+------------------+--------------+----------------+------------+------------------+------+------------------+-----------------+------------------+--------------+------+\n",
      "|summary|               age|  workclass|            fnlwgt|   education|     education_num|marital_status|      occupation|relationship|              race|   sex|      capital_gain|     capital_loss|    hours_per_week|native_country|income|\n",
      "+-------+------------------+-----------+------------------+------------+------------------+--------------+----------------+------------+------------------+------+------------------+-----------------+------------------+--------------+------+\n",
      "|  count|             92561|      92561|             92561|       92561|             92561|         92561|           92561|       92561|             92561| 92561|             92561|            92561|             92561|         92561| 92561|\n",
      "|   mean|38.518069165199165|       null|189542.36106999707|        null|10.075236870820325|          null|            null|        null|              null|  null|1046.2974362852606|87.93313598599842|40.433087369410444|          null|  null|\n",
      "| stddev|13.622754122275898|       null|105813.13085282393|        null| 2.573214971564443|          null|            null|        null|              null|  null| 7220.801020868511|404.3217769832543|12.324730527252386|          null|  null|\n",
      "|    min|                17|          ?|            100009|        10th|                 1|      Divorced|               ?|     Husband|Amer-Indian-Eskimo|Female|                 0|                0|                 1|             ?| <=50K|\n",
      "|    max|                90|Without-pay|             99987|Some-college|                 9|       Widowed|Transport-moving|        Wife|             White|  Male|             99999|              974|                99|    Yugoslavia|  >50K|\n",
      "+-------+------------------+-----------+------------------+------------+------------------+--------------+----------------+------------+------------------+------+------------------+-----------------+------------------+--------------+------+\n",
      "\n"
     ]
    }
   ],
   "source": [
    "#Obtain insights (statistics) of different columns\n",
    "cens_data.describe().show()"
   ]
  },
  {
   "cell_type": "code",
   "execution_count": 5,
   "metadata": {},
   "outputs": [
    {
     "name": "stdout",
     "output_type": "stream",
     "text": [
      "+---+----------------+------+------------+-------------+------------------+---------------+-------------+------------------+------+------------+------------+--------------+--------------+------+\n",
      "|age|       workclass|fnlwgt|   education|education_num|    marital_status|     occupation| relationship|              race|   sex|capital_gain|capital_loss|hours_per_week|native_country|income|\n",
      "+---+----------------+------+------------+-------------+------------------+---------------+-------------+------------------+------+------------+------------+--------------+--------------+------+\n",
      "| 43|         Private|173728|   Bachelors|           13|         Separated| Prof-specialty|    Unmarried|             White|Female|           0|           0|            40| United-States| <=50K|\n",
      "| 61|       State-gov|124971|   Doctorate|           16|Married-civ-spouse| Prof-specialty|      Husband|             White|  Male|           0|           0|            40|             ?|  >50K|\n",
      "| 22|         Private|383603|Some-college|           10|     Never-married|   Adm-clerical|    Own-child|             White|Female|           0|           0|            40| United-States| <=50K|\n",
      "| 43|Self-emp-not-inc|277647|     HS-grad|            9|Married-civ-spouse|Exec-managerial|      Husband|             White|  Male|           0|           0|            35| United-States| <=50K|\n",
      "| 33|         Private|228696|     1st-4th|            2|Married-civ-spouse|   Craft-repair|Not-in-family|             White|  Male|           0|        2603|            32|        Mexico| <=50K|\n",
      "| 41|               ?| 27187|   Assoc-voc|           11|Married-civ-spouse|              ?|      Husband|             White|  Male|           0|        2415|            12| United-States|  >50K|\n",
      "| 30|               ?| 96851|Some-college|           10|     Never-married|              ?|Not-in-family|             White|Female|           0|        1719|            25| United-States| <=50K|\n",
      "| 17|         Private|132680|        10th|            6|     Never-married|  Other-service|    Own-child|             White|Female|           0|        1602|            10| United-States| <=50K|\n",
      "| 52|         Private|122109|     HS-grad|            9|     Never-married| Prof-specialty|    Unmarried|             White|Female|           0|         323|            40| United-States| <=50K|\n",
      "| 59|         Private|271571|Some-college|           10|Married-civ-spouse|   Craft-repair|      Husband|             White|  Male|       15024|           0|            50| United-States|  >50K|\n",
      "| 44|         Private|148138|   Doctorate|           16|Married-civ-spouse|Exec-managerial|      Husband|Asian-Pac-Islander|  Male|       15024|           0|            40|         Japan|  >50K|\n",
      "| 49|               ?|271346|   Bachelors|           13|Married-civ-spouse|              ?|      Husband|             White|  Male|       15024|           0|            60| United-States|  >50K|\n",
      "| 55|     Federal-gov|305850| Prof-school|           15|Married-civ-spouse|Exec-managerial|      Husband|             White|  Male|       15024|           0|            40| United-States|  >50K|\n",
      "| 51|     Federal-gov|223206|   Doctorate|           16|Married-civ-spouse| Prof-specialty|      Husband|Asian-Pac-Islander|  Male|       15024|           0|            40|       Vietnam|  >50K|\n",
      "| 44|         Private|343591|     HS-grad|            9|          Divorced|   Craft-repair|Not-in-family|             White|Female|       14344|           0|            40| United-States|  >50K|\n",
      "| 37|         Private|190987|Some-college|           10|Married-civ-spouse|          Sales|         Wife|             White|Female|        7298|           0|            40| United-States|  >50K|\n",
      "| 40|         Private|198692|Some-college|           10|Married-civ-spouse|   Adm-clerical|      Husband|             White|  Male|        5178|           0|            60| United-States|  >50K|\n",
      "| 52|     Federal-gov|192386|     Masters|           14|Married-civ-spouse|Exec-managerial|      Husband|             White|  Male|        5013|           0|            40| United-States| <=50K|\n",
      "| 25|         Private|321205|   Bachelors|           13|     Never-married|Exec-managerial|Not-in-family|             White|  Male|        4101|           0|            35| United-States| <=50K|\n",
      "| 34|       Local-gov|155781|     HS-grad|            9|Married-civ-spouse|Protective-serv|      Husband|             White|  Male|        4064|           0|            50| United-States| <=50K|\n",
      "+---+----------------+------+------------+-------------+------------------+---------------+-------------+------------------+------+------------+------------+--------------+--------------+------+\n",
      "only showing top 20 rows\n",
      "\n"
     ]
    }
   ],
   "source": [
    "#Obtain the Unique values of Categorical Columns\n",
    "cens_data.select(\"age\", \"workclass\", \"fnlwgt\", \"education\", \"education_num\", \"marital_status\", \"occupation\", \"relationship\", \"race\", \"sex\", \"capital_gain\", \"capital_loss\", \"hours_per_week\", \"native_country\", \"income\").distinct().show()\n"
   ]
  },
  {
   "cell_type": "code",
   "execution_count": 6,
   "metadata": {},
   "outputs": [
    {
     "name": "stdout",
     "output_type": "stream",
     "text": [
      "+---+------------+------+------------+-------------+------------------+---------------+--------------+-----+------+------------+------------+--------------+--------------+------+\n",
      "|age|   workclass|fnlwgt|   education|education_num|    marital_status|     occupation|  relationship| race|   sex|capital_gain|capital_loss|hours_per_week|native_country|income|\n",
      "+---+------------+------+------------+-------------+------------------+---------------+--------------+-----+------+------------+------------+--------------+--------------+------+\n",
      "| 47|           ?|224108|     HS-grad|            9|           Widowed|              ?|     Unmarried|White|Female|           0|           0|            40| United-States| <=50K|\n",
      "| 19|           ?|252292|     HS-grad|            9|     Never-married|              ?|     Own-child|White|  Male|           0|           0|            40| United-States| <=50K|\n",
      "| 60|           ?| 56248|     HS-grad|            9|Married-civ-spouse|              ?|       Husband|White|  Male|           0|        1485|            70| United-States|  >50K|\n",
      "| 50|Self-emp-inc|201689|     7th-8th|            4|Married-civ-spouse|   Craft-repair|       Husband|White|  Male|           0|        1977|            63|             ?|  >50K|\n",
      "| 18|           ?| 78181|     HS-grad|            9|     Never-married|              ?|     Own-child|White|Female|           0|           0|            20| United-States| <=50K|\n",
      "| 53|   State-gov|104501|   Doctorate|           16|Married-civ-spouse| Prof-specialty|       Husband|White|  Male|           0|           0|            40|             ?|  >50K|\n",
      "| 18|           ?|173125|        12th|            8|     Never-married|              ?|     Own-child|White|Female|           0|           0|            24| United-States| <=50K|\n",
      "| 17|           ?|145258|        11th|            7|     Never-married|              ?|Other-relative|White|Female|           0|           0|            25| United-States| <=50K|\n",
      "| 67|           ?| 39100|     HS-grad|            9|Married-civ-spouse|              ?|          Wife|White|Female|           0|           0|             5| United-States| <=50K|\n",
      "| 62|           ?|182687|Some-college|           10|Married-civ-spouse|              ?|          Wife|White|Female|           0|           0|            45| United-States|  >50K|\n",
      "| 37|   Local-gov|287306|  Assoc-acdm|           12|Married-civ-spouse| Prof-specialty|          Wife|Black|Female|       99999|           0|            40|             ?|  >50K|\n",
      "| 66|           ?|186061|Some-college|           10|           Widowed|              ?|     Unmarried|Black|Female|           0|        4356|            40| United-States| <=50K|\n",
      "| 50|     Private|176227|   Bachelors|           13|Married-civ-spouse|Exec-managerial|       Husband|White|  Male|           0|           0|            40|             ?|  >50K|\n",
      "| 17|           ?|158762|        10th|            6|     Never-married|              ?|     Own-child|White|Female|           0|           0|            20| United-States| <=50K|\n",
      "| 25|     Private|164488|   Bachelors|           13|Married-civ-spouse| Prof-specialty|       Husband|White|  Male|           0|           0|            40|             ?| <=50K|\n",
      "| 19|     Private|158343|Some-college|           10|     Never-married|   Tech-support|     Own-child|White|Female|           0|           0|            40|             ?| <=50K|\n",
      "| 72|           ?|271352|        10th|            6|          Divorced|              ?| Not-in-family|White|  Male|           0|           0|            12| United-States| <=50K|\n",
      "| 23|           ?|196816|     HS-grad|            9|     Never-married|              ?| Not-in-family|White|  Male|           0|           0|            30| United-States| <=50K|\n",
      "| 21|           ?|207782|Some-college|           10|     Never-married|              ?|     Own-child|White|  Male|           0|           0|            30| United-States| <=50K|\n",
      "| 18|           ?|192399|Some-college|           10|     Never-married|              ?|     Own-child|White|  Male|           0|           0|            60| United-States| <=50K|\n",
      "+---+------------+------+------------+-------------+------------------+---------------+--------------+-----+------+------------+------------+--------------+--------------+------+\n",
      "only showing top 20 rows\n",
      "\n"
     ]
    }
   ],
   "source": [
    "#Check if any unwanted values are present in the data such as Null, ? or NaN\n",
    "li=[\"?\",\"Null\",\"NaN\"]\n",
    "cens_data.filter(cens_data.age.isin(li)|cens_data.workclass.isin(li)|cens_data.fnlwgt.isin(li)|cens_data.education.isin(li)|cens_data.education_num.isin(li)|cens_data.marital_status.isin(li)|cens_data.occupation.isin(li)|cens_data.relationship.isin(li)|cens_data.race.isin(li)|cens_data.sex.isin(li)|cens_data.capital_gain.isin(li)|cens_data.capital_loss.isin(li)|cens_data.hours_per_week.isin(li)|cens_data.native_country.isin(li)|cens_data.income.isin(li)).show()"
   ]
  },
  {
   "cell_type": "code",
   "execution_count": 7,
   "metadata": {},
   "outputs": [
    {
     "name": "stdout",
     "output_type": "stream",
     "text": [
      "+---+----------------+------+------------+-------------+------------------+-----------------+--------------+-----+------+------------+------------+--------------+--------------+------+\n",
      "|age|       workclass|fnlwgt|   education|education_num|    marital_status|       occupation|  relationship| race|   sex|capital_gain|capital_loss|hours_per_week|native_country|income|\n",
      "+---+----------------+------+------------+-------------+------------------+-----------------+--------------+-----+------+------------+------------+--------------+--------------+------+\n",
      "| 22|         Private|148187|        11th|            7|     Never-married|    Other-service|Other-relative|White|  Male|           0|           0|            40| United-States| <=50K|\n",
      "| 77|Self-emp-not-inc|138714|Some-college|           10|Married-civ-spouse|            Sales|       Husband|White|  Male|           0|           0|            40| United-States| <=50K|\n",
      "| 23|         Private|314894|     HS-grad|            9|     Never-married|  Exec-managerial|     Own-child|White|Female|           0|           0|            45| United-States| <=50K|\n",
      "| 46|         Private|166181|Some-college|           10|     Never-married|     Adm-clerical|     Own-child|Black|Female|           0|           0|            36| United-States| <=50K|\n",
      "| 29|       State-gov|204516|     Masters|           14|Married-civ-spouse|   Prof-specialty|       Husband|White|  Male|           0|           0|            15| United-States| <=50K|\n",
      "| 35|         Private|407913|     HS-grad|            9|         Separated|    Other-service| Not-in-family|Black|  Male|           0|           0|            40| United-States| <=50K|\n",
      "| 28|         Private| 96219|   Bachelors|           13|Married-civ-spouse|    Other-service|          Wife|White|Female|           0|           0|            15| United-States| <=50K|\n",
      "| 58|    Self-emp-inc| 78104|     HS-grad|            9|Married-civ-spouse|  Exec-managerial|       Husband|White|  Male|           0|           0|            45| United-States| <=50K|\n",
      "| 32|         Private|207668|     HS-grad|            9|Married-civ-spouse|     Craft-repair|       Husband|White|  Male|           0|           0|            50| United-States| <=50K|\n",
      "| 67|Self-emp-not-inc|191380| Prof-school|           15|Married-civ-spouse|   Prof-specialty|       Husband|White|  Male|       20051|           0|            25| United-States|  >50K|\n",
      "| 47|       State-gov| 80914|     Masters|           14|Married-civ-spouse|  Exec-managerial|       Husband|White|  Male|           0|           0|            47| United-States|  >50K|\n",
      "| 36|       Local-gov|241998|   Bachelors|           13|Married-civ-spouse|   Prof-specialty|       Husband|White|  Male|           0|        1672|            50| United-States| <=50K|\n",
      "| 29|         Private|227890|     HS-grad|            9|     Never-married|  Protective-serv|Other-relative|Black|  Male|           0|           0|            40| United-States| <=50K|\n",
      "| 26|     Federal-gov|276075|Some-college|           10|Married-civ-spouse|     Adm-clerical|       Husband|Black|  Male|           0|           0|            40| United-States| <=50K|\n",
      "| 17|Self-emp-not-inc| 36218|        11th|            7|     Never-married|  Farming-fishing|     Own-child|White|  Male|           0|           0|            20| United-States| <=50K|\n",
      "| 28|         Private|346406|     HS-grad|            9|Married-civ-spouse|Machine-op-inspct|       Husband|White|  Male|           0|        1672|            50| United-States| <=50K|\n",
      "| 37|         Private| 77820|   Bachelors|           13|Married-civ-spouse|  Exec-managerial|       Husband|White|  Male|           0|           0|            50| United-States|  >50K|\n",
      "| 45|       Local-gov|195418|     Masters|           14|          Divorced|   Prof-specialty| Not-in-family|Black|  Male|           0|           0|            40| United-States| <=50K|\n",
      "| 18|         Private|132986|        12th|            8|     Never-married|    Other-service|     Own-child|White|  Male|           0|           0|            10| United-States| <=50K|\n",
      "| 32|         Private|473133|     Masters|           14|Married-civ-spouse|   Prof-specialty|       Husband|White|  Male|           0|           0|            40| United-States|  >50K|\n",
      "+---+----------------+------+------------+-------------+------------------+-----------------+--------------+-----+------+------------+------------+--------------+--------------+------+\n",
      "only showing top 20 rows\n",
      "\n"
     ]
    }
   ],
   "source": [
    "#Remove unwanted values if present in any of the columns (numerical as well as categorical columns)\n",
    "cens_data_new=cens_data[(cens_data.age.isin(li))|(cens_data.workclass.isin(li))|(cens_data.fnlwgt.isin(li))|(cens_data.education.isin(li))|(cens_data.education_num.isin(li))|(cens_data.marital_status.isin(li))|(cens_data.occupation.isin(li))|(cens_data.relationship.isin(li))|(cens_data.race.isin(li))|(cens_data.sex.isin(li))|(cens_data.capital_gain.isin(li))|(cens_data.capital_loss.isin(li))|(cens_data.hours_per_week.isin(li))|(cens_data.native_country.isin(li))|(cens_data.income.isin(li))==False]\n",
    "cens_data_new.show()"
   ]
  },
  {
   "cell_type": "code",
   "execution_count": 8,
   "metadata": {},
   "outputs": [
    {
     "name": "stdout",
     "output_type": "stream",
     "text": [
      "6702.95391843\n",
      "252.978820991\n",
      "16.7125383841\n",
      "1.54463854596\n",
      "1031189.50803\n"
     ]
    }
   ],
   "source": [
    "#Obtain the relationship between different columns using covariance which shows the degree of interdependence of the two columns\n",
    "from pyspark.sql.types import IntegerType\n",
    "cens_data_new=cens_data_new.withColumn('age',cens_data_new['age'].cast(IntegerType())).withColumn('fnlwgt',cens_data_new['fnlwgt'].cast(IntegerType())).withColumn('education_num',cens_data_new['education_num'].cast(IntegerType())).withColumn('capital_gain',cens_data_new['capital_gain'].cast(IntegerType())).withColumn('capital_loss',cens_data_new['capital_loss'].cast(IntegerType())).withColumn('hours_per_week',cens_data_new['hours_per_week'].cast(IntegerType()))\n",
    "print(cens_data_new.cov('hours_per_week','capital_gain'))\n",
    "print(cens_data_new.cov('hours_per_week','capital_loss'))\n",
    "print(cens_data_new.cov('age','hours_per_week'))\n",
    "print(cens_data_new.cov('age','education_num'))\n",
    "print(cens_data_new.cov('fnlwgt','capital_gain'))"
   ]
  },
  {
   "cell_type": "code",
   "execution_count": 9,
   "metadata": {},
   "outputs": [
    {
     "name": "stdout",
     "output_type": "stream",
     "text": [
      "+----------------+------------+------------------+-----------------+--------------+------------------+------+--------------+------+\n",
      "|       workclass|   education|    marital_status|       occupation|  relationship|              race|   sex|native_country|income|\n",
      "+----------------+------------+------------------+-----------------+--------------+------------------+------+--------------+------+\n",
      "|         Private|     HS-grad|     Never-married|     Craft-repair| Not-in-family|             White|  Male| United-States| <=50K|\n",
      "|         Private|   Bachelors|     Never-married|     Tech-support| Not-in-family|             White|Female| United-States| <=50K|\n",
      "|         Private|   Bachelors|     Never-married|   Prof-specialty| Not-in-family|             White|Female|        Mexico| <=50K|\n",
      "|    Self-emp-inc|Some-college|Married-civ-spouse|  Exec-managerial|       Husband|             White|  Male| United-States| <=50K|\n",
      "|     Federal-gov|     HS-grad|Married-civ-spouse|     Adm-clerical|       Husband|             White|  Male| United-States| <=50K|\n",
      "|         Private|     Masters|          Divorced|   Prof-specialty|     Unmarried|             White|Female| United-States|  >50K|\n",
      "|         Private|   Assoc-voc|          Divorced|     Tech-support|     Unmarried|             White|Female| United-States| <=50K|\n",
      "|         Private|   Assoc-voc|Married-civ-spouse|   Prof-specialty|       Husband|             White|  Male| United-States|  >50K|\n",
      "|         Private|        11th|          Divorced|    Other-service|     Unmarried|             White|Female| United-States| <=50K|\n",
      "|         Private|     HS-grad|Married-civ-spouse| Transport-moving|       Husband|             Black|  Male| United-States| <=50K|\n",
      "|         Private|        11th|          Divorced|     Adm-clerical|     Unmarried|             White|Female| United-States| <=50K|\n",
      "|         Private|     HS-grad|     Never-married|            Sales|     Own-child|             Other|  Male|   Puerto-Rico| <=50K|\n",
      "|Self-emp-not-inc|   Assoc-voc|     Never-married|    Other-service|Other-relative|             White|Female| United-States| <=50K|\n",
      "|         Private|         9th|          Divorced|  Priv-house-serv| Not-in-family|             Black|Female| United-States| <=50K|\n",
      "|         Private|   Bachelors|Married-civ-spouse|  Exec-managerial|       Husband|Asian-Pac-Islander|  Male|         Japan|  >50K|\n",
      "|       Local-gov|  Assoc-acdm|Married-civ-spouse|     Adm-clerical|          Wife|             White|Female| United-States| <=50K|\n",
      "|         Private|        11th|          Divorced|Handlers-cleaners|     Unmarried|             White|Female| United-States| <=50K|\n",
      "|       Local-gov|     HS-grad|Married-civ-spouse|    Other-service|          Wife|             Black|Female|       Jamaica|  >50K|\n",
      "|         Private|     HS-grad|     Never-married|  Farming-fishing| Not-in-family|             Black|  Male| United-States| <=50K|\n",
      "|         Private|     HS-grad|     Never-married|  Exec-managerial|Other-relative|             White|  Male| United-States| <=50K|\n",
      "+----------------+------------+------------------+-----------------+--------------+------------------+------+--------------+------+\n",
      "only showing top 20 rows\n",
      "\n",
      "+---------+---------+--------------+----------+------------+----+---+--------------+------+\n",
      "|workclass|education|marital_status|occupation|relationship|race|sex|native_country|income|\n",
      "+---------+---------+--------------+----------+------------+----+---+--------------+------+\n",
      "|        7|       16|             7|        14|           6|   5|  2|            41|     2|\n",
      "+---------+---------+--------------+----------+------------+----+---+--------------+------+\n",
      "\n"
     ]
    }
   ],
   "source": [
    "#Obtain distinct values and their counts in categorical columns.\n",
    "cens_data_cat=cens_data_new[\"workclass\", \"education\",  \"marital_status\", \"occupation\", \"relationship\", \"race\", \"sex\", \"native_country\", \"income\"]\n",
    "cens_data_cat.select(\"workclass\", \"education\",  \"marital_status\", \"occupation\", \"relationship\", \"race\", \"sex\", \"native_country\", \"income\").distinct().show()\n",
    "from pyspark.sql.functions import countDistinct\n",
    "expression = [countDistinct(c).alias(c) for c in cens_data_cat.columns]\n",
    "cens_data_cat.select(*expression).show()\n"
   ]
  },
  {
   "cell_type": "code",
   "execution_count": 10,
   "metadata": {},
   "outputs": [
    {
     "name": "stdout",
     "output_type": "stream",
     "text": [
      "+-------------+-----------+---------+-------+------------+----------------+---------+-----------+\n",
      "|age_workclass|Federal-gov|Local-gov|Private|Self-emp-inc|Self-emp-not-inc|State-gov|Without-pay|\n",
      "+-------------+-----------+---------+-------+------------+----------------+---------+-----------+\n",
      "|           69|          3|       16|    128|          12|              38|       24|          0|\n",
      "|           88|          0|        0|      1|           0|               7|        0|          0|\n",
      "|           56|         39|       69|    643|          55|             141|       32|          0|\n",
      "|           42|         78|      208|   1379|          67|             260|      102|          0|\n",
      "|           24|         35|       97|   1858|          13|              61|       80|          0|\n",
      "|           37|         73|      167|   1684|          84|             215|       95|          0|\n",
      "|           25|         22|      123|   1983|          31|              70|       67|          0|\n",
      "|           52|         68|      122|    841|          67|             126|       45|          3|\n",
      "|           20|         26|       36|   1606|           7|              33|       63|          0|\n",
      "|           46|        115|      171|   1387|          95|             140|      110|          6|\n",
      "|           57|         52|       78|    557|          76|             141|       41|          0|\n",
      "|           78|          0|        2|     21|           9|              10|        0|          0|\n",
      "|           29|         72|      119|   1707|          40|             144|       86|          3|\n",
      "|           84|          0|        7|     10|           1|               3|        0|          0|\n",
      "|           61|         29|       56|    466|          51|              99|       16|          0|\n",
      "|           74|          5|        0|     42|          10|              33|       13|          0|\n",
      "|           60|         34|       57|    486|          51|             128|       43|          0|\n",
      "|           85|          0|        0|      4|           0|               3|        0|          0|\n",
      "|           28|         48|      142|   1852|          35|             143|       85|          0|\n",
      "|           38|         72|      155|   1622|          66|             216|       98|          0|\n",
      "+-------------+-----------+---------+-------+------------+----------------+---------+-----------+\n",
      "only showing top 20 rows\n",
      "\n",
      "+-------------+-----------+---------+-------+------------+----------------+---------+-----------+\n",
      "|sex_workclass|Federal-gov|Local-gov|Private|Self-emp-inc|Self-emp-not-inc|State-gov|Without-pay|\n",
      "+-------------+-----------+---------+-------+------------+----------------+---------+-----------+\n",
      "|         Male|       1802|     3483|  41715|        2689|            5981|     2221|         22|\n",
      "|       Female|        855|     2341|  21846|         347|            1144|     1389|         16|\n",
      "+-------------+-----------+---------+-------+------------+----------------+---------+-----------+\n",
      "\n",
      "+-------+------+----+\n",
      "|age_sex|Female|Male|\n",
      "+-------+------+----+\n",
      "|     69|    65| 156|\n",
      "|     88|     1|   7|\n",
      "|     56|   284| 695|\n",
      "|     42|   598|1496|\n",
      "|     24|   820|1324|\n",
      "|     37|   662|1656|\n",
      "|     25|   857|1439|\n",
      "|     52|   355| 917|\n",
      "|     20|   786| 985|\n",
      "|     46|   613|1411|\n",
      "|     57|   247| 698|\n",
      "|     78|    15|  27|\n",
      "|     29|   738|1433|\n",
      "|     84|    12|   9|\n",
      "|     61|   199| 518|\n",
      "|     74|    34|  69|\n",
      "|     60|   196| 603|\n",
      "|     85|     3|   4|\n",
      "|     28|   814|1491|\n",
      "|     38|   618|1611|\n",
      "+-------+------+----+\n",
      "only showing top 20 rows\n",
      "\n"
     ]
    }
   ],
   "source": [
    "#Create a crosstab on two different columns (example, age & workclass)\n",
    "cens_data_new.crosstab('age','workclass').show()\n",
    "cens_data_new.crosstab('sex','workclass').show()\n",
    "cens_data_new.crosstab('age','sex').show()"
   ]
  },
  {
   "cell_type": "code",
   "execution_count": 11,
   "metadata": {},
   "outputs": [
    {
     "name": "stdout",
     "output_type": "stream",
     "text": [
      "hours_per_week\n",
      "age\n",
      "capital_gain\n",
      "capital_loss\n",
      "fnlwgt\n",
      "education_num\n"
     ]
    }
   ],
   "source": [
    "#Perform an “Integer Type Check” on the columns of the Spark DataFrame and display the columns satisfying the same\n",
    "col_type = dict(cens_data_new.dtypes)\n",
    "for (key,value) in col_type.items():\n",
    "    if(value=='int'):\n",
    "        print(key)"
   ]
  },
  {
   "cell_type": "code",
   "execution_count": 12,
   "metadata": {},
   "outputs": [
    {
     "data": {
      "image/png": "[encoded data removed]",
      "text/plain": [
       "<matplotlib.figure.Figure at 0x7f4fc801f910>"
      ]
     },
     "metadata": {},
     "output_type": "display_data"
    },
    {
     "data": {
      "image/png": "[encoded data removed]",
      "text/plain": [
       "<matplotlib.figure.Figure at 0x7f4fc08416d0>"
      ]
     },
     "metadata": {},
     "output_type": "display_data"
    },
    {
     "data": {
      "image/png": "[encoded data removed]",
      "text/plain": [
       "<matplotlib.figure.Figure at 0x7f4fc1094fd0>"
      ]
     },
     "metadata": {},
     "output_type": "display_data"
    },
    {
     "data": {
      "image/png": "[encoded data removed]",
      "text/plain": [
       "<matplotlib.figure.Figure at 0x7f4fc0777290>"
      ]
     },
     "metadata": {},
     "output_type": "display_data"
    },
    {
     "data": {
      "image/png": "[encoded data removed]",
      "text/plain": [
       "<matplotlib.figure.Figure at 0x7f4fc06aa150>"
      ]
     },
     "metadata": {},
     "output_type": "display_data"
    },
    {
     "data": {
      "image/png": "[encoded data removed]",
      "text/plain": [
       "<matplotlib.figure.Figure at 0x7f4fc0623950>"
      ]
     },
     "metadata": {},
     "output_type": "display_data"
    },
    {
     "data": {
      "image/png": "[encoded data removed]",
      "text/plain": [
       "<matplotlib.figure.Figure at 0x7f4fc0614250>"
      ]
     },
     "metadata": {},
     "output_type": "display_data"
    },
    {
     "data": {
      "image/png": "[encoded data removed]",
      "text/plain": [
       "<matplotlib.figure.Figure at 0x7f4fc055d3d0>"
      ]
     },
     "metadata": {},
     "output_type": "display_data"
    }
   ],
   "source": [
    "#Obtain correlation between the above columns using pandas scatter plot\n",
    "import matplotlib.pyplot as plt\n",
    "df=cens_data_new['hours_per_week','age','capital_gain','capital_loss','fnlwgt','education_num'].toPandas()\n",
    "#print(df.head(10))\n",
    "plt.scatter(df.age,df.education_num)\n",
    "plt.show()\n",
    "plt.scatter(df.age,df.hours_per_week)\n",
    "plt.show()\n",
    "plt.scatter(df.education_num,df.capital_gain)\n",
    "plt.show()\n",
    "plt.scatter(df.education_num,df.capital_loss)\n",
    "plt.show()\n",
    "plt.scatter(df.hours_per_week,df.capital_gain)\n",
    "plt.show()\n",
    "plt.scatter(df.hours_per_week,df.capital_loss)\n",
    "plt.show()\n",
    "plt.scatter(df.age,df.capital_gain)\n",
    "plt.show()\n",
    "plt.scatter(df.age,df.capital_loss)\n",
    "plt.show()"
   ]
  },
  {
   "cell_type": "code",
   "execution_count": 13,
   "metadata": {
    "collapsed": true
   },
   "outputs": [],
   "source": [
    "# \"\", \"\"]\n",
    "'''Conversion of categorical columns into Numerical Columns\n",
    "i. Category Indexing using string indexing for all categorical columns\n",
    "ii. Label Indexing for income column as income_class (Note: Make sure that the output column name for Income should be income_class)\n",
    "iii. One Hot Encoding which generates binary columns for features\n",
    "iv. Use Vector assembler to get a single vector column for features\n",
    "v. Make it as an array of stages so that it can be passed to a pipeline'''\n",
    "#Category Indexing:- In this, we assign a numerical value to each category (eg: Male: 0, Female: 1)\n",
    "from pyspark.ml.feature import StringIndexer, OneHotEncoder, VectorAssembler\n",
    "stage_1=StringIndexer(inputCol= 'workclass', outputCol= 'workclass_Index')\n",
    "stage_2=StringIndexer(inputCol= 'education', outputCol= 'education_Index')\n",
    "stage_3=StringIndexer(inputCol= 'marital_status', outputCol= 'marital_status_Index')\n",
    "stage_4=StringIndexer(inputCol= 'occupation', outputCol= 'occupation_Index')\n",
    "stage_5=StringIndexer(inputCol= 'relationship', outputCol= 'relationship_Index')\n",
    "stage_6=StringIndexer(inputCol= 'race', outputCol= 'race_Index')\n",
    "stage_7=StringIndexer(inputCol= 'sex', outputCol= 'sex_Index')\n",
    "stage_8=StringIndexer(inputCol= 'native_country', outputCol= 'native_country_Index')"
   ]
  },
  {
   "cell_type": "code",
   "execution_count": 14,
   "metadata": {
    "collapsed": true
   },
   "outputs": [],
   "source": [
    "#Label Indexing for income column as income_class (Note: Make sure that the output column name for Income should be income_class)\n",
    "stage_9=StringIndexer(inputCol= 'income', outputCol= 'income_class')"
   ]
  },
  {
   "cell_type": "code",
   "execution_count": 15,
   "metadata": {
    "collapsed": true
   },
   "outputs": [],
   "source": [
    "#One-Hot Encoding:- This converts categories into binary vectors with at most one nonzero value (eg: (Blue: [1, 0]), (Green: [0, 1]), (Red: [0, 0]))\n",
    "stage_10=OneHotEncoder(inputCol=stage_1.getOutputCol(),outputCol='workclass_encoded')\n",
    "stage_11=OneHotEncoder(inputCol=stage_2.getOutputCol(),outputCol='education_encoded')\n",
    "stage_12=OneHotEncoder(inputCol=stage_3.getOutputCol(),outputCol='marital_status_encoded')\n",
    "stage_13=OneHotEncoder(inputCol=stage_4.getOutputCol(),outputCol='occupation_encoded')\n",
    "stage_14=OneHotEncoder(inputCol=stage_5.getOutputCol(),outputCol='relationship_encoded')\n",
    "stage_15=OneHotEncoder(inputCol=stage_6.getOutputCol(),outputCol='race_encoded')\n",
    "stage_16=OneHotEncoder(inputCol=stage_7.getOutputCol(),outputCol='sex_encoded')\n",
    "stage_17=OneHotEncoder(inputCol=stage_8.getOutputCol(),outputCol='native_country_encoded')"
   ]
  },
  {
   "cell_type": "code",
   "execution_count": 16,
   "metadata": {
    "collapsed": true
   },
   "outputs": [],
   "source": [
    "#Use Vector assembler to get a single vector column for features\n",
    "stage_18=VectorAssembler(inputCols=['age','workclass_encoded','fnlwgt','education_encoded','education_num','marital_status_encoded','occupation_encoded','relationship_encoded','race_encoded','sex_encoded','capital_gain','capital_loss','hours_per_week','native_country_encoded'],outputCol='features')"
   ]
  },
  {
   "cell_type": "code",
   "execution_count": 17,
   "metadata": {
    "collapsed": true
   },
   "outputs": [],
   "source": [
    "'''Build the Pipeline to perform multiple tasks\n",
    "i. Pass the stages of Data Preprocessing (created in Step 3) to the pipeline to create an instance with the stages\n",
    "ii. Estimator that can fit on a DataFrame to produce a model\n",
    "iii. Transform the DataFrame with features to DataFrame with predictions\n",
    "iv. Generate a DataFrame which can hold a variety of datatypes including feature vectors'''\n",
    "from pyspark.ml import Pipeline\n",
    "pipeline=Pipeline(stages=[stage_1,stage_2,stage_3,stage_4,stage_5,stage_6,stage_7,stage_8,stage_9,stage_10,stage_11,stage_12,stage_13,stage_14,stage_15,stage_16,stage_17,stage_18])\n",
    "cens_data_new_pipe=pipeline.fit(cens_data_new)\n",
    "pipe_cens=cens_data_new_pipe.transform(cens_data_new)"
   ]
  },
  {
   "cell_type": "code",
   "execution_count": 18,
   "metadata": {},
   "outputs": [
    {
     "name": "stdout",
     "output_type": "stream",
     "text": [
      "('Shape of train data: ', 68715, 33)\n",
      "('Shape of test data: ', 17136, 33)\n"
     ]
    },
    {
     "data": {
      "image/png": "[encoded data removed]",
      "text/plain": [
       "<matplotlib.figure.Figure at 0x7f4fc03e7b10>"
      ]
     },
     "metadata": {},
     "output_type": "display_data"
    },
    {
     "data": {
      "image/png": "[encoded data removed]",
      "text/plain": [
       "<matplotlib.figure.Figure at 0x7f4fb46c91d0>"
      ]
     },
     "metadata": {},
     "output_type": "display_data"
    }
   ],
   "source": [
    "'''Split the dataset into two parts (80%-20%) as Train and Test Datasets\n",
    "i. Check the shape of the datasets\n",
    "ii. Check the distribution of income class (0,1) in train and test dataset'''\n",
    "splits = pipe_cens.randomSplit([0.8, 0.2])\n",
    "train_data=splits[0]\n",
    "test_data=splits[1]\n",
    "print(\"Shape of train data: \",train_data.count(),len(train_data.columns))\n",
    "print(\"Shape of test data: \",test_data.count(),len(test_data.columns))\n",
    "#income will be the target variable\n",
    "df_train=train_data.toPandas()\n",
    "plt.hist(df_train.income_class)\n",
    "plt.show()\n",
    "df_test=test_data.toPandas()\n",
    "plt.hist(df_test.income_class)\n",
    "plt.show()\n"
   ]
  },
  {
   "cell_type": "code",
   "execution_count": 19,
   "metadata": {
    "collapsed": true
   },
   "outputs": [],
   "source": [
    "train_data=train_data.withColumnRenamed(\"income_class\",\"label\")\n",
    "test_data=test_data.withColumnRenamed(\"income_class\",\"label\")"
   ]
  },
  {
   "cell_type": "code",
   "execution_count": 20,
   "metadata": {
    "collapsed": true
   },
   "outputs": [],
   "source": [
    "'''Build the following Classifiers\n",
    "Logistic Regression\n",
    "Decision Tree\n",
    "Random Forest\n",
    "Gradient Boosted Tree\n",
    "Naïve Bayes\n",
    "Common Tasks for all the Classifiers:\n",
    "Train and Evaluate the Model'''\n",
    "\n",
    "#Logistic Regression\n",
    "from pyspark.ml.classification import LogisticRegression\n",
    "lr=LogisticRegression(featuresCol='features',labelCol='label',maxIter=5)\n",
    "lrModel = lr.fit(train_data)\n",
    "lrPred = lrModel.transform(test_data)\n",
    "from pyspark.ml.evaluation import BinaryClassificationEvaluator\n",
    "evaluator_b = BinaryClassificationEvaluator()\n",
    "\n",
    "#Decision Tree\n",
    "from pyspark.ml.classification import DecisionTreeClassifier\n",
    "dt = DecisionTreeClassifier(featuresCol='features',labelCol='label')\n",
    "dtModel = dt.fit(train_data)\n",
    "dtPred = dtModel.transform(test_data)\n",
    "from pyspark.ml.evaluation import MulticlassClassificationEvaluator\n",
    "evaluator_m = MulticlassClassificationEvaluator()\n",
    "\n",
    "#Random Forest\n",
    "from pyspark.ml.classification import RandomForestClassifier\n",
    "rf = RandomForestClassifier(featuresCol = 'features', labelCol = 'label')\n",
    "rfModel = rf.fit(train_data)\n",
    "rfPred = rfModel.transform(test_data)\n",
    "\n",
    "#Gradient Boosted Tree\n",
    "from pyspark.ml.classification import GBTClassifier\n",
    "gbt = GBTClassifier(labelCol=\"label\", featuresCol=\"features\", maxIter=10)\n",
    "gbtModel = gbt.fit(train_data)\n",
    "gbtPred = gbtModel.transform(test_data)\n",
    "PredAndLabels = gbtPred.select(\"prediction\", \"label\")\n",
    "PredAndLabels_collect = PredAndLabels.collect()\n",
    "PredAndLabels = sc.parallelize(PredAndLabels_collect)\n",
    "from pyspark.mllib.evaluation import BinaryClassificationMetrics\n",
    "evaluator_gbt = BinaryClassificationMetrics(PredAndLabels)\n",
    "\n",
    "#Naïve Bayes\n",
    "from pyspark.ml.classification import NaiveBayes\n",
    "nb = NaiveBayes(smoothing=1.0, modelType=\"multinomial\")\n",
    "nbModel = nb.fit(train_data)\n",
    "nbPred = nbModel.transform(test_data)\n",
    "evaluator_nb_r = BinaryClassificationEvaluator().setMetricName(\"areaUnderROC\").setRawPredictionCol(\"rawPrediction\").setLabelCol(\"label\")\n",
    "evaluator_nb = MulticlassClassificationEvaluator(labelCol=\"label\", predictionCol=\"prediction\", metricName=\"accuracy\")"
   ]
  },
  {
   "cell_type": "code",
   "execution_count": 21,
   "metadata": {},
   "outputs": [
    {
     "name": "stdout",
     "output_type": "stream",
     "text": [
      "('ROC for Logistic Regression : ', 0.8867635917998734)\n",
      "('Model Accuracy for Logistic Regression : ', 0.8344421101774043)\n",
      "('ROC for Decision Tree : ', 0.7255329270623326)\n",
      "('Model Accuracy for Decision Tree : ', 0.8313704977462892)\n",
      "('ROC for Random Forest : ', 0.8899765485969211)\n",
      "('Model Accuracy for Random Forest : ', 0.8165982474019776)\n",
      "('ROC for Gradient Boost : ', 0.7578080889695911)\n",
      "('Model Accuracy for Gradient Boost : ', 0.843907247215799)\n",
      "('ROC for Naive Bayes : ', 0.3675072904669614)\n",
      "('Model Accuracy for Naive Bayes : ', 0.7764939309056956)\n"
     ]
    }
   ],
   "source": [
    "'''Print ROC metrics & model accuracy'''\n",
    "\n",
    "#Logistic Regression\n",
    "lrROC = evaluator_b.evaluate(lrPred)\n",
    "print('ROC for Logistic Regression : ',lrROC)\n",
    "lrAcc = lrPred.filter(lrPred.label==lrPred.prediction).count()/float(lrPred.count())\n",
    "print('Model Accuracy for Logistic Regression : ',lrAcc)\n",
    "\n",
    "#Decision Tree\n",
    "dtROC = evaluator_b.evaluate(dtPred,{evaluator_b.metricName: \"areaUnderROC\"})\n",
    "print('ROC for Decision Tree : ',dtROC)\n",
    "dtAcc = evaluator_m.evaluate(dtPred)\n",
    "print('Model Accuracy for Decision Tree : ',dtAcc)\n",
    "\n",
    "#Random Forest\n",
    "rfROC = evaluator_b.evaluate(rfPred,{evaluator_b.metricName: \"areaUnderROC\"})\n",
    "print('ROC for Random Forest : ',rfROC)\n",
    "rfAcc = evaluator_m.evaluate(rfPred)\n",
    "print('Model Accuracy for Random Forest : ',rfAcc)\n",
    "\n",
    "#Gradient Boosted Tree\n",
    "print('ROC for Gradient Boost : ',evaluator_gbt.areaUnderROC)\n",
    "gbtAcc = evaluator_m.evaluate(gbtPred)\n",
    "print('Model Accuracy for Gradient Boost : ',gbtAcc)\n",
    "\n",
    "#Naïve Bayes\n",
    "nbROC = evaluator_nb_r.evaluate(nbPred)\n",
    "print('ROC for Naive Bayes : ',nbROC)\n",
    "nbAcc = evaluator_nb.evaluate(nbPred)\n",
    "print('Model Accuracy for Naive Bayes : ',nbAcc)"
   ]
  },
  {
   "cell_type": "code",
   "execution_count": 22,
   "metadata": {},
   "outputs": [
    {
     "name": "stdout",
     "output_type": "stream",
     "text": [
      "('Improved Logistic Regression Model Accuracy:', 0.7634803921568627)\n"
     ]
    }
   ],
   "source": [
    "from pyspark.ml.tuning import CrossValidator, ParamGridBuilder\n",
    "\n",
    "#Setup models and parameters for tuning\n",
    "lrparamGrid = ParamGridBuilder().addGrid(lr.regParam,[0.8, 0.2]).addGrid(lr.elasticNetParam,[0.8, 0.2]).build()\n",
    "cvlr = CrossValidator(estimator = lr, estimatorParamMaps = lrparamGrid, evaluator = evaluator_b, numFolds = 2)\n",
    "cvmodellr = cvlr.fit(train_data)\n",
    "cvPredlr = cvmodellr.transform(test_data)\n",
    "cvAcclr = cvPredlr.filter(cvPredlr.label==cvPredlr.prediction).count()/float(cvPredlr.count())\n",
    "print('Improved Logistic Regression Model Accuracy:', cvAcclr)\n"
   ]
  },
  {
   "cell_type": "code",
   "execution_count": 23,
   "metadata": {},
   "outputs": [
    {
     "name": "stdout",
     "output_type": "stream",
     "text": [
      "('Improved Decision Tree Model Accuracy:', 0.9676922555297278)\n"
     ]
    }
   ],
   "source": [
    "dtparamGrid = (ParamGridBuilder().addGrid(dt.maxDepth, [2, 5, 10, 20, 30]).addGrid(dt.maxBins, [10, 20, 40, 80, 100]).build())\n",
    "dtcv = CrossValidator(estimator = dt, estimatorParamMaps = dtparamGrid, evaluator = evaluator_m, numFolds = 2)\n",
    "dtcvModel = dtcv.fit(train_data)\n",
    "cvPreddt = dtcvModel.transform(test_data)\n",
    "cvAccdt = evaluator_m.evaluate(cvPreddt)\n",
    "print('Improved Decision Tree Model Accuracy:', cvAccdt)\n",
    "    "
   ]
  },
  {
   "cell_type": "code",
   "execution_count": 24,
   "metadata": {},
   "outputs": [
    {
     "name": "stdout",
     "output_type": "stream",
     "text": [
      "('Improved Random Forest Model Accuracy:', 0.8165982474019776)\n"
     ]
    }
   ],
   "source": [
    "rfparamGrid = ParamGridBuilder().addGrid(rf.numTrees,[20,50,100]).build()\n",
    "cvrf = CrossValidator(estimator = rf, estimatorParamMaps = rfparamGrid, evaluator = evaluator_m, numFolds = 2)\n",
    "cvmodelrf = cvrf.fit(train_data)\n",
    "cvPredrf = cvmodelrf.transform(test_data)\n",
    "cvAccrf = evaluator_m.evaluate(cvPredrf)\n",
    "print('Improved Random Forest Model Accuracy:', cvAccrf)\n"
   ]
  },
  {
   "cell_type": "code",
   "execution_count": 25,
   "metadata": {},
   "outputs": [
    {
     "name": "stdout",
     "output_type": "stream",
     "text": [
      "('Improved Gradient Boost Model Accuracy:', 0.843907247215799)\n"
     ]
    }
   ],
   "source": [
    "gbparamGrid = (ParamGridBuilder().addGrid(gbt.maxDepth, [2, 5, 10]).addGrid(gbt.maxBins, [10, 20, 40]).build())\n",
    "cvgb = CrossValidator(estimator = gbt, estimatorParamMaps = gbparamGrid, evaluator = evaluator_m, numFolds = 5)\n",
    "cvmodelgb = cvgb.fit(train_data)\n",
    "cvPredgb = cvmodelgb.transform(test_data)\n",
    "cvAccgbt = evaluator_m.evaluate(gbtPred)\n",
    "print('Improved Gradient Boost Model Accuracy:', cvAccgbt)\n"
   ]
  },
  {
   "cell_type": "code",
   "execution_count": 26,
   "metadata": {},
   "outputs": [
    {
     "name": "stdout",
     "output_type": "stream",
     "text": [
      "('Improved Naive Bayes Model Accuracy:', 0.7764939309056956)\n"
     ]
    }
   ],
   "source": [
    "nbparamGrid = ParamGridBuilder().addGrid(nb.smoothing,[0.8,1.0]).build()\n",
    "cvnb = CrossValidator(estimator = nb, estimatorParamMaps = nbparamGrid, evaluator = evaluator_nb, numFolds = 2)\n",
    "cvmodelnb = cvnb.fit(train_data)\n",
    "cvPrednb = cvmodelnb.transform(test_data)\n",
    "cvAccnb = evaluator_nb.evaluate(cvPrednb)\n",
    "print('Improved Naive Bayes Model Accuracy:', cvAccnb)\n"
   ]
  },
  {
   "cell_type": "code",
   "execution_count": 28,
   "metadata": {},
   "outputs": [
    {
     "name": "stdout",
     "output_type": "stream",
     "text": [
      "Decision Tree model gave the maximum accuracy after hypertuning compared to other models.\n"
     ]
    }
   ],
   "source": [
    "'''Compare the accuracy of the 5 models and comment on the models which performed better as compared to other in the list'''\n",
    "print('Decision Tree model gave the maximum accuracy after hypertuning compared to other models.')"
   ]
  }
 ],
 "metadata": {
  "kernelspec": {
   "display_name": "PySpark",
   "language": "python",
   "name": "pyspark"
  },
  "language_info": {
   "codemirror_mode": {
    "name": "ipython",
    "version": 2
   },
   "file_extension": ".py",
   "mimetype": "text/x-python",
   "name": "python",
   "nbconvert_exporter": "python",
   "pygments_lexer": "ipython2",
   "version": "2.7.14"
  }
 },
 "nbformat": 4,
 "nbformat_minor": 2
}
